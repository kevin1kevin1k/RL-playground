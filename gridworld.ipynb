{
 "cells": [
  {
   "cell_type": "code",
   "execution_count": 1,
   "metadata": {},
   "outputs": [],
   "source": [
    "import numpy as np"
   ]
  },
  {
   "cell_type": "code",
   "execution_count": 2,
   "metadata": {},
   "outputs": [],
   "source": [
    "N = 4 # grid size\n",
    "grid = np.zeros((N, N))\n",
    "S = np.arange(N**2)\n",
    "terminals = [0, 15]\n",
    "A = list(map(np.array, [(+1, 0), (-1, 0), (0, +1), (0, -1)]))\n",
    "gamma = 1 # undiscounted\n",
    "\n",
    "# transform state to grid cell\n",
    "def s2g(s):\n",
    "    assert s in S, 'Invalid state'\n",
    "    return np.array([s // N, s % N])\n",
    "\n",
    "# transform grid cell to state\n",
    "def g2s(g):\n",
    "    return g[0] * N + g[1]\n",
    "\n",
    "def pi_equiprobable_random(a, s):\n",
    "    return 1 / len(A)"
   ]
  },
  {
   "cell_type": "code",
   "execution_count": 3,
   "metadata": {},
   "outputs": [],
   "source": [
    "def P(s_, s, a):\n",
    "    if s in terminals:\n",
    "        return s_ in terminals\n",
    "    sPa = g2s(np.minimum(np.maximum(s2g(s) + a, 0), N - 1))\n",
    "    if s_ in terminals:\n",
    "        return sPa in terminals\n",
    "    return sPa == s_\n",
    "\n",
    "def P_pi(s_, s, pi):\n",
    "    return sum(pi(a, s) * P(s_, s, a) for a in A)"
   ]
  },
  {
   "cell_type": "code",
   "execution_count": 4,
   "metadata": {},
   "outputs": [],
   "source": [
    "def R(s, a):\n",
    "    return 0 if s in terminals else -1\n",
    "\n",
    "def R_pi(s, pi):\n",
    "    return sum(pi(a, s) * R(s, a) for a in A)"
   ]
  },
  {
   "cell_type": "code",
   "execution_count": 6,
   "metadata": {},
   "outputs": [],
   "source": [
    "def policy_evaluation(pi, n_updates=10, inplace=False):\n",
    "    V = np.zeros_like(S, dtype=float)\n",
    "    for i in range(n_updates):\n",
    "        V_ = V if inplace else np.copy(V)\n",
    "        for s in S:\n",
    "            V_[s] = R_pi(s, pi) + gamma * sum(P_pi(s_, s, pi) * V[s_] for s_ in S)\n",
    "        V = V_\n",
    "    return V"
   ]
  },
  {
   "cell_type": "code",
   "execution_count": 8,
   "metadata": {},
   "outputs": [
    {
     "name": "stdout",
     "output_type": "stream",
     "text": [
      "[  0.         -13.99975741 -19.99964052 -21.99959772 -13.99975741\n",
      " -17.99968332 -19.99964293 -19.99964052 -19.99964052 -19.99964293\n",
      " -17.99968332 -13.99975741 -21.99959772 -19.99964052 -13.99975741\n",
      "   0.        ]\n",
      "[  0.         -13.99999963 -19.99999947 -21.99999941 -13.99999963\n",
      " -17.99999955 -19.99999951 -19.99999951 -19.99999947 -19.99999951\n",
      " -17.99999958 -13.99999969 -21.99999941 -19.99999951 -13.99999969\n",
      "   0.        ]\n"
     ]
    }
   ],
   "source": [
    "# Note that the inplace version converges faster.\n",
    "print(policy_evaluation(pi_equiprobable_random, n_updates=200, inplace=False))\n",
    "print(policy_evaluation(pi_equiprobable_random, n_updates=200, inplace=True))"
   ]
  },
  {
   "cell_type": "code",
   "execution_count": 9,
   "metadata": {},
   "outputs": [],
   "source": [
    "def policy_evaluation_threshold(pi, threshold, inplace=False):\n",
    "    V = np.zeros_like(S, dtype=float)\n",
    "    n_updates = 0\n",
    "    while True:\n",
    "        max_diff = 0\n",
    "        V_ = V if inplace else np.copy(V)\n",
    "        for s in S:\n",
    "            v_old = V_[s]\n",
    "            V_[s] = R_pi(s, pi) + gamma * sum(P_pi(s_, s, pi) * V[s_] for s_ in S)\n",
    "            max_diff = max(max_diff, abs(V_[s] - v_old))\n",
    "        n_updates += 1\n",
    "        if max_diff < threshold:\n",
    "            break\n",
    "        V = V_\n",
    "    return n_updates"
   ]
  },
  {
   "cell_type": "code",
   "execution_count": 10,
   "metadata": {},
   "outputs": [
    {
     "name": "stdout",
     "output_type": "stream",
     "text": [
      "173\n",
      "114\n"
     ]
    }
   ],
   "source": [
    "# Note that the inplace version converges faster.\n",
    "print(policy_evaluation_threshold(pi_equiprobable_random, threshold=1e-4, inplace=False))\n",
    "print(policy_evaluation_threshold(pi_equiprobable_random, threshold=1e-4, inplace=True))"
   ]
  }
 ],
 "metadata": {
  "kernelspec": {
   "display_name": "Python 3",
   "language": "python",
   "name": "python3"
  },
  "language_info": {
   "codemirror_mode": {
    "name": "ipython",
    "version": 3
   },
   "file_extension": ".py",
   "mimetype": "text/x-python",
   "name": "python",
   "nbconvert_exporter": "python",
   "pygments_lexer": "ipython3",
   "version": "3.6.4"
  }
 },
 "nbformat": 4,
 "nbformat_minor": 2
}
